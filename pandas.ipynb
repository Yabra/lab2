{
 "cells": [
  {
   "cell_type": "markdown",
   "id": "64d44da9-558f-4634-9de8-de0f46f93cfe",
   "metadata": {},
   "source": [
    "## Часть 1: Введение в Pandas\n",
    "\n",
    "Pandas - это библиотека Python для работы с данными. Она предоставляет мощные инструменты для анализа и манипуляции данными.\n",
    "\n",
    "### Установка Pandas\n",
    "\n",
    "Для начала убедитесь, что у вас установлена библиотека Pandas. Если ее нет, установите ее с помощью команды:\n"
   ]
  },
  {
   "cell_type": "code",
   "id": "7484df51-b002-414c-ae42-75a2df57c78d",
   "metadata": {
    "ExecuteTime": {
     "end_time": "2025-09-30T09:44:38.410717Z",
     "start_time": "2025-09-30T09:44:37.775955Z"
    }
   },
   "source": [
    "from pandas.core.interchange.dataframe_protocol import DataFrame\n",
    "!pip install pandas"
   ],
   "outputs": [
    {
     "name": "stdout",
     "output_type": "stream",
     "text": [
      "Requirement already satisfied: pandas in ./.venv/lib64/python3.12/site-packages (2.3.3)\r\n",
      "Requirement already satisfied: numpy>=1.26.0 in ./.venv/lib64/python3.12/site-packages (from pandas) (2.3.3)\r\n",
      "Requirement already satisfied: python-dateutil>=2.8.2 in ./.venv/lib/python3.12/site-packages (from pandas) (2.9.0.post0)\r\n",
      "Requirement already satisfied: pytz>=2020.1 in ./.venv/lib/python3.12/site-packages (from pandas) (2025.2)\r\n",
      "Requirement already satisfied: tzdata>=2022.7 in ./.venv/lib/python3.12/site-packages (from pandas) (2025.2)\r\n",
      "Requirement already satisfied: six>=1.5 in ./.venv/lib/python3.12/site-packages (from python-dateutil>=2.8.2->pandas) (1.17.0)\r\n",
      "\r\n",
      "\u001B[1m[\u001B[0m\u001B[34;49mnotice\u001B[0m\u001B[1;39;49m]\u001B[0m\u001B[39;49m A new release of pip is available: \u001B[0m\u001B[31;49m24.3.1\u001B[0m\u001B[39;49m -> \u001B[0m\u001B[32;49m25.2\u001B[0m\r\n",
      "\u001B[1m[\u001B[0m\u001B[34;49mnotice\u001B[0m\u001B[1;39;49m]\u001B[0m\u001B[39;49m To update, run: \u001B[0m\u001B[32;49mpip install --upgrade pip\u001B[0m\r\n"
     ]
    }
   ],
   "execution_count": 14
  },
  {
   "cell_type": "markdown",
   "id": "4b655e29-c3a5-4117-9860-2d6b9af62ac1",
   "metadata": {},
   "source": [
    "## Импорт библиотеки\n",
    "Давайте начнем с импорта библиотеки Pandas:"
   ]
  },
  {
   "cell_type": "code",
   "id": "bfc3346f-3843-4aff-aec0-54321b9774f0",
   "metadata": {
    "tags": [],
    "ExecuteTime": {
     "end_time": "2025-09-30T09:44:39.440061Z",
     "start_time": "2025-09-30T09:44:39.436576Z"
    }
   },
   "source": "import pandas as pd",
   "outputs": [],
   "execution_count": 15
  },
  {
   "cell_type": "markdown",
   "id": "ea8530e9-c179-48c1-8043-ff87f415ee67",
   "metadata": {},
   "source": [
    "## Часть 2: Работа с данными\n",
    "### Чтение данных\n",
    "Мы будем использовать датасет Titanic. Давайте прочитаем данные из CSV файла."
   ]
  },
  {
   "cell_type": "code",
   "id": "fa5deec6-c85e-4d88-89df-bea7d75fcbba",
   "metadata": {
    "ExecuteTime": {
     "end_time": "2025-09-30T09:44:40.868893Z",
     "start_time": "2025-09-30T09:44:40.860082Z"
    }
   },
   "source": [
    "# Чтение данных из файла 'titanic.csv'\n",
    "# Используйте метод pd.read_csv()\n",
    "# write your code here\n",
    "titanic = pd.read_csv(\"./titanic.csv\")"
   ],
   "outputs": [],
   "execution_count": 16
  },
  {
   "cell_type": "markdown",
   "id": "07dfd488-4960-495e-80d8-9cf5903449b6",
   "metadata": {},
   "source": [
    "### Предпросмотр данных\n",
    "Для первого ознакомления с данными давайте выведем первые несколько строк."
   ]
  },
  {
   "cell_type": "code",
   "id": "216e104c-259f-4ecd-9cd4-40362f61ca4e",
   "metadata": {
    "ExecuteTime": {
     "end_time": "2025-09-30T09:44:41.874891Z",
     "start_time": "2025-09-30T09:44:41.868550Z"
    }
   },
   "source": [
    "# Вывод первых 5 строк данных\n",
    "# Используйте метод .head()\n",
    "# write your code here\n",
    "print(titanic.head(3))"
   ],
   "outputs": [
    {
     "name": "stdout",
     "output_type": "stream",
     "text": [
      "   PassengerId  Survived  Pclass  \\\n",
      "0            1         0       3   \n",
      "1            2         1       1   \n",
      "2            3         1       3   \n",
      "\n",
      "                                                Name     Sex   Age  SibSp  \\\n",
      "0                            Braund, Mr. Owen Harris    male  22.0      1   \n",
      "1  Cumings, Mrs. John Bradley (Florence Briggs Th...  female  38.0      1   \n",
      "2                             Heikkinen, Miss. Laina  female  26.0      0   \n",
      "\n",
      "   Parch            Ticket     Fare Cabin Embarked  \n",
      "0      0         A/5 21171   7.2500   NaN        S  \n",
      "1      0          PC 17599  71.2833   C85        C  \n",
      "2      0  STON/O2. 3101282   7.9250   NaN        S  \n"
     ]
    }
   ],
   "execution_count": 17
  },
  {
   "cell_type": "markdown",
   "id": "b7ba5f57-07e1-4c0f-9b55-9d78638ee2cc",
   "metadata": {},
   "source": [
    "### Информация о данных\n",
    "Чтобы получить общую информацию о данных, воспользуйтесь методом .info()."
   ]
  },
  {
   "cell_type": "code",
   "id": "43650b4f-f3e7-4480-b874-b5552f564383",
   "metadata": {
    "ExecuteTime": {
     "end_time": "2025-09-30T09:44:43.478063Z",
     "start_time": "2025-09-30T09:44:43.470141Z"
    }
   },
   "source": "print(titanic.info())",
   "outputs": [
    {
     "name": "stdout",
     "output_type": "stream",
     "text": [
      "<class 'pandas.core.frame.DataFrame'>\n",
      "RangeIndex: 891 entries, 0 to 890\n",
      "Data columns (total 12 columns):\n",
      " #   Column       Non-Null Count  Dtype  \n",
      "---  ------       --------------  -----  \n",
      " 0   PassengerId  891 non-null    int64  \n",
      " 1   Survived     891 non-null    int64  \n",
      " 2   Pclass       891 non-null    int64  \n",
      " 3   Name         891 non-null    object \n",
      " 4   Sex          891 non-null    object \n",
      " 5   Age          714 non-null    float64\n",
      " 6   SibSp        891 non-null    int64  \n",
      " 7   Parch        891 non-null    int64  \n",
      " 8   Ticket       891 non-null    object \n",
      " 9   Fare         891 non-null    float64\n",
      " 10  Cabin        204 non-null    object \n",
      " 11  Embarked     889 non-null    object \n",
      "dtypes: float64(2), int64(5), object(5)\n",
      "memory usage: 83.7+ KB\n",
      "None\n"
     ]
    }
   ],
   "execution_count": 18
  },
  {
   "cell_type": "markdown",
   "id": "a6857118-a82e-4586-a933-4eb0df9cb74e",
   "metadata": {},
   "source": [
    "### Работа с NaN\n",
    "Часто данные содержат пропущенные значения, которые представляются как NaN (Not a Number). Pandas предоставляет удобные методы для работы с ними.\n",
    "\n",
    "Проверка на наличие NaN. Методы fillna и dropna возвращают новые Dataframe, проверьте нет ли в них NaN"
   ]
  },
  {
   "cell_type": "code",
   "id": "f7910fde-24f7-4cf8-991d-01f08bc45b63",
   "metadata": {
    "tags": [],
    "ExecuteTime": {
     "end_time": "2025-09-30T09:44:44.995004Z",
     "start_time": "2025-09-30T09:44:44.987297Z"
    }
   },
   "source": [
    "# Проверка на наличие NaN в DataFrame\n",
    "# Используйте метод .isna()\n",
    "# write your code here\n",
    "print(titanic.isna())"
   ],
   "outputs": [
    {
     "name": "stdout",
     "output_type": "stream",
     "text": [
      "     PassengerId  Survived  Pclass   Name    Sex    Age  SibSp  Parch  Ticket  \\\n",
      "0          False     False   False  False  False  False  False  False   False   \n",
      "1          False     False   False  False  False  False  False  False   False   \n",
      "2          False     False   False  False  False  False  False  False   False   \n",
      "3          False     False   False  False  False  False  False  False   False   \n",
      "4          False     False   False  False  False  False  False  False   False   \n",
      "..           ...       ...     ...    ...    ...    ...    ...    ...     ...   \n",
      "886        False     False   False  False  False  False  False  False   False   \n",
      "887        False     False   False  False  False  False  False  False   False   \n",
      "888        False     False   False  False  False   True  False  False   False   \n",
      "889        False     False   False  False  False  False  False  False   False   \n",
      "890        False     False   False  False  False  False  False  False   False   \n",
      "\n",
      "      Fare  Cabin  Embarked  \n",
      "0    False   True     False  \n",
      "1    False  False     False  \n",
      "2    False   True     False  \n",
      "3    False  False     False  \n",
      "4    False   True     False  \n",
      "..     ...    ...       ...  \n",
      "886  False   True     False  \n",
      "887  False  False     False  \n",
      "888  False   True     False  \n",
      "889  False  False     False  \n",
      "890  False   True     False  \n",
      "\n",
      "[891 rows x 12 columns]\n"
     ]
    }
   ],
   "execution_count": 19
  },
  {
   "cell_type": "markdown",
   "id": "1dadeaf7-e214-4552-b054-8e4a03714f72",
   "metadata": {},
   "source": [
    "Заполнение NaN"
   ]
  },
  {
   "cell_type": "code",
   "id": "7d901187-75a9-497e-8774-6e0dde584197",
   "metadata": {
    "ExecuteTime": {
     "end_time": "2025-09-30T09:44:46.640791Z",
     "start_time": "2025-09-30T09:44:46.636341Z"
    }
   },
   "source": [
    "# Заполнение NaN определенным значением (например, нулем)\n",
    "# Используйте метод .fillna()\n",
    "# write your code here\n",
    "titanic = titanic.fillna(0)"
   ],
   "outputs": [],
   "execution_count": 20
  },
  {
   "cell_type": "markdown",
   "id": "6f32fddb-ec60-456b-8958-5c81b0357d49",
   "metadata": {},
   "source": [
    "Удаление строк с NaN"
   ]
  },
  {
   "cell_type": "code",
   "id": "4d188deb-0818-4b01-b3a5-9d20d2166d10",
   "metadata": {
    "tags": [],
    "ExecuteTime": {
     "end_time": "2025-09-30T09:44:47.400927Z",
     "start_time": "2025-09-30T09:44:47.398459Z"
    }
   },
   "source": [
    "# Удаление строк, содержащих NaN\n",
    "# Используйте метод .dropna()\n",
    "# write your code here\n",
    "titanic = titanic.dropna()"
   ],
   "outputs": [],
   "execution_count": 21
  },
  {
   "cell_type": "markdown",
   "id": "7a4ff131-1593-4cd2-b2bc-e0ddb2442d3b",
   "metadata": {},
   "source": [
    "## Часть 3: Обработка DataFrame\n",
    "### Выбор данных\n",
    "Pandas позволяет выбирать данные по индексам, меткам столбцов и условиям."
   ]
  },
  {
   "cell_type": "code",
   "id": "d11f6114-ce4b-4e71-afec-adf1d8c1ec6e",
   "metadata": {
    "tags": [],
    "ExecuteTime": {
     "end_time": "2025-09-30T09:44:48.615761Z",
     "start_time": "2025-09-30T09:44:48.604936Z"
    }
   },
   "source": [
    "# Выбор столбца по метке\n",
    "# Используйте синтаксис DataFrame['название_столбца']\n",
    "# write your code here\n",
    "print(titanic[\"Name\"])\n",
    "\n",
    "# Выбор нескольких столбцов\n",
    "# Используйте синтаксис DataFrame[['столбец_1', 'столбец_2']]\n",
    "# write your code here\n",
    "print(titanic[[\"Name\", \"PassengerId\"]])\n",
    "\n",
    "# Выбор строк по индексу\n",
    "# Используйте метод .loc[]\n",
    "# write your code here\n",
    "print(titanic.loc[800])\n",
    "\n",
    "# Выбор строк и столбцов по условию\n",
    "# Используя логические операции, выберите мужчин старше 30\n",
    "# write your code here\n",
    "print(titanic.query(\"Sex == \\\"male\\\" and Age > 30\"))"
   ],
   "outputs": [
    {
     "name": "stdout",
     "output_type": "stream",
     "text": [
      "0                                Braund, Mr. Owen Harris\n",
      "1      Cumings, Mrs. John Bradley (Florence Briggs Th...\n",
      "2                                 Heikkinen, Miss. Laina\n",
      "3           Futrelle, Mrs. Jacques Heath (Lily May Peel)\n",
      "4                               Allen, Mr. William Henry\n",
      "                             ...                        \n",
      "886                                Montvila, Rev. Juozas\n",
      "887                         Graham, Miss. Margaret Edith\n",
      "888             Johnston, Miss. Catherine Helen \"Carrie\"\n",
      "889                                Behr, Mr. Karl Howell\n",
      "890                                  Dooley, Mr. Patrick\n",
      "Name: Name, Length: 891, dtype: object\n",
      "                                                  Name  PassengerId\n",
      "0                              Braund, Mr. Owen Harris            1\n",
      "1    Cumings, Mrs. John Bradley (Florence Briggs Th...            2\n",
      "2                               Heikkinen, Miss. Laina            3\n",
      "3         Futrelle, Mrs. Jacques Heath (Lily May Peel)            4\n",
      "4                             Allen, Mr. William Henry            5\n",
      "..                                                 ...          ...\n",
      "886                              Montvila, Rev. Juozas          887\n",
      "887                       Graham, Miss. Margaret Edith          888\n",
      "888           Johnston, Miss. Catherine Helen \"Carrie\"          889\n",
      "889                              Behr, Mr. Karl Howell          890\n",
      "890                                Dooley, Mr. Patrick          891\n",
      "\n",
      "[891 rows x 2 columns]\n",
      "PassengerId                     801\n",
      "Survived                          0\n",
      "Pclass                            2\n",
      "Name           Ponesell, Mr. Martin\n",
      "Sex                            male\n",
      "Age                            34.0\n",
      "SibSp                             0\n",
      "Parch                             0\n",
      "Ticket                       250647\n",
      "Fare                           13.0\n",
      "Cabin                             0\n",
      "Embarked                          S\n",
      "Name: 800, dtype: object\n",
      "     PassengerId  Survived  Pclass                                  Name  \\\n",
      "4              5         0       3              Allen, Mr. William Henry   \n",
      "6              7         0       1               McCarthy, Mr. Timothy J   \n",
      "13            14         0       3           Andersson, Mr. Anders Johan   \n",
      "20            21         0       2                  Fynney, Mr. Joseph J   \n",
      "21            22         1       2                 Beesley, Mr. Lawrence   \n",
      "..           ...       ...     ...                                   ...   \n",
      "867          868         0       1  Roebling, Mr. Washington Augustus II   \n",
      "872          873         0       1              Carlsson, Mr. Frans Olof   \n",
      "873          874         0       3           Vander Cruyssen, Mr. Victor   \n",
      "881          882         0       3                    Markun, Mr. Johann   \n",
      "890          891         0       3                   Dooley, Mr. Patrick   \n",
      "\n",
      "      Sex   Age  SibSp  Parch    Ticket     Fare        Cabin Embarked  \n",
      "4    male  35.0      0      0    373450   8.0500            0        S  \n",
      "6    male  54.0      0      0     17463  51.8625          E46        S  \n",
      "13   male  39.0      1      5    347082  31.2750            0        S  \n",
      "20   male  35.0      0      0    239865  26.0000            0        S  \n",
      "21   male  34.0      0      0    248698  13.0000          D56        S  \n",
      "..    ...   ...    ...    ...       ...      ...          ...      ...  \n",
      "867  male  31.0      0      0  PC 17590  50.4958          A24        S  \n",
      "872  male  33.0      0      0       695   5.0000  B51 B53 B55        S  \n",
      "873  male  47.0      0      0    345765   9.0000            0        S  \n",
      "881  male  33.0      0      0    349257   7.8958            0        S  \n",
      "890  male  32.0      0      0    370376   7.7500            0        Q  \n",
      "\n",
      "[202 rows x 12 columns]\n"
     ]
    }
   ],
   "execution_count": 22
  },
  {
   "cell_type": "markdown",
   "id": "f3102de8-d2fd-4593-bf26-721316ae51e9",
   "metadata": {},
   "source": [
    "### Сортировка данных\n",
    "Сортировка данных по значениям столбцов."
   ]
  },
  {
   "cell_type": "code",
   "id": "de5e850c-e920-4ae4-aadb-3f1953438b09",
   "metadata": {
    "tags": [],
    "ExecuteTime": {
     "end_time": "2025-09-30T09:44:53.509233Z",
     "start_time": "2025-09-30T09:44:53.493667Z"
    }
   },
   "source": [
    "# Сортировка данных по столбцу 'столбец_1' по возрастанию\n",
    "# Используйте метод .sort_values()\n",
    "# write your code here\n",
    "titanic.sort_values(\"Age\")"
   ],
   "outputs": [
    {
     "data": {
      "text/plain": [
       "     PassengerId  Survived  Pclass                                       Name  \\\n",
       "502          503         0       3             O'Sullivan, Miss. Bridget Mary   \n",
       "351          352         0       1     Williams-Lambert, Mr. Fletcher Fellows   \n",
       "347          348         1       3  Davison, Mrs. Thomas Henry (Mary E Finck)   \n",
       "560          561         0       3                   Morrow, Mr. Thomas Rowan   \n",
       "196          197         0       3                        Mernagh, Mr. Robert   \n",
       "..           ...       ...     ...                                        ...   \n",
       "116          117         0       3                       Connors, Mr. Patrick   \n",
       "493          494         0       1                    Artagaveytia, Mr. Ramon   \n",
       "96            97         0       1                  Goldschmidt, Mr. George B   \n",
       "851          852         0       3                        Svensson, Mr. Johan   \n",
       "630          631         1       1       Barkworth, Mr. Algernon Henry Wilson   \n",
       "\n",
       "        Sex   Age  SibSp  Parch    Ticket     Fare Cabin Embarked  \n",
       "502  female   0.0      0      0    330909   7.6292     0        Q  \n",
       "351    male   0.0      0      0    113510  35.0000  C128        S  \n",
       "347  female   0.0      1      0    386525  16.1000     0        S  \n",
       "560    male   0.0      0      0    372622   7.7500     0        Q  \n",
       "196    male   0.0      0      0    368703   7.7500     0        Q  \n",
       "..      ...   ...    ...    ...       ...      ...   ...      ...  \n",
       "116    male  70.5      0      0    370369   7.7500     0        Q  \n",
       "493    male  71.0      0      0  PC 17609  49.5042     0        C  \n",
       "96     male  71.0      0      0  PC 17754  34.6542    A5        C  \n",
       "851    male  74.0      0      0    347060   7.7750     0        S  \n",
       "630    male  80.0      0      0     27042  30.0000   A23        S  \n",
       "\n",
       "[891 rows x 12 columns]"
      ],
      "text/html": [
       "<div>\n",
       "<style scoped>\n",
       "    .dataframe tbody tr th:only-of-type {\n",
       "        vertical-align: middle;\n",
       "    }\n",
       "\n",
       "    .dataframe tbody tr th {\n",
       "        vertical-align: top;\n",
       "    }\n",
       "\n",
       "    .dataframe thead th {\n",
       "        text-align: right;\n",
       "    }\n",
       "</style>\n",
       "<table border=\"1\" class=\"dataframe\">\n",
       "  <thead>\n",
       "    <tr style=\"text-align: right;\">\n",
       "      <th></th>\n",
       "      <th>PassengerId</th>\n",
       "      <th>Survived</th>\n",
       "      <th>Pclass</th>\n",
       "      <th>Name</th>\n",
       "      <th>Sex</th>\n",
       "      <th>Age</th>\n",
       "      <th>SibSp</th>\n",
       "      <th>Parch</th>\n",
       "      <th>Ticket</th>\n",
       "      <th>Fare</th>\n",
       "      <th>Cabin</th>\n",
       "      <th>Embarked</th>\n",
       "    </tr>\n",
       "  </thead>\n",
       "  <tbody>\n",
       "    <tr>\n",
       "      <th>502</th>\n",
       "      <td>503</td>\n",
       "      <td>0</td>\n",
       "      <td>3</td>\n",
       "      <td>O'Sullivan, Miss. Bridget Mary</td>\n",
       "      <td>female</td>\n",
       "      <td>0.0</td>\n",
       "      <td>0</td>\n",
       "      <td>0</td>\n",
       "      <td>330909</td>\n",
       "      <td>7.6292</td>\n",
       "      <td>0</td>\n",
       "      <td>Q</td>\n",
       "    </tr>\n",
       "    <tr>\n",
       "      <th>351</th>\n",
       "      <td>352</td>\n",
       "      <td>0</td>\n",
       "      <td>1</td>\n",
       "      <td>Williams-Lambert, Mr. Fletcher Fellows</td>\n",
       "      <td>male</td>\n",
       "      <td>0.0</td>\n",
       "      <td>0</td>\n",
       "      <td>0</td>\n",
       "      <td>113510</td>\n",
       "      <td>35.0000</td>\n",
       "      <td>C128</td>\n",
       "      <td>S</td>\n",
       "    </tr>\n",
       "    <tr>\n",
       "      <th>347</th>\n",
       "      <td>348</td>\n",
       "      <td>1</td>\n",
       "      <td>3</td>\n",
       "      <td>Davison, Mrs. Thomas Henry (Mary E Finck)</td>\n",
       "      <td>female</td>\n",
       "      <td>0.0</td>\n",
       "      <td>1</td>\n",
       "      <td>0</td>\n",
       "      <td>386525</td>\n",
       "      <td>16.1000</td>\n",
       "      <td>0</td>\n",
       "      <td>S</td>\n",
       "    </tr>\n",
       "    <tr>\n",
       "      <th>560</th>\n",
       "      <td>561</td>\n",
       "      <td>0</td>\n",
       "      <td>3</td>\n",
       "      <td>Morrow, Mr. Thomas Rowan</td>\n",
       "      <td>male</td>\n",
       "      <td>0.0</td>\n",
       "      <td>0</td>\n",
       "      <td>0</td>\n",
       "      <td>372622</td>\n",
       "      <td>7.7500</td>\n",
       "      <td>0</td>\n",
       "      <td>Q</td>\n",
       "    </tr>\n",
       "    <tr>\n",
       "      <th>196</th>\n",
       "      <td>197</td>\n",
       "      <td>0</td>\n",
       "      <td>3</td>\n",
       "      <td>Mernagh, Mr. Robert</td>\n",
       "      <td>male</td>\n",
       "      <td>0.0</td>\n",
       "      <td>0</td>\n",
       "      <td>0</td>\n",
       "      <td>368703</td>\n",
       "      <td>7.7500</td>\n",
       "      <td>0</td>\n",
       "      <td>Q</td>\n",
       "    </tr>\n",
       "    <tr>\n",
       "      <th>...</th>\n",
       "      <td>...</td>\n",
       "      <td>...</td>\n",
       "      <td>...</td>\n",
       "      <td>...</td>\n",
       "      <td>...</td>\n",
       "      <td>...</td>\n",
       "      <td>...</td>\n",
       "      <td>...</td>\n",
       "      <td>...</td>\n",
       "      <td>...</td>\n",
       "      <td>...</td>\n",
       "      <td>...</td>\n",
       "    </tr>\n",
       "    <tr>\n",
       "      <th>116</th>\n",
       "      <td>117</td>\n",
       "      <td>0</td>\n",
       "      <td>3</td>\n",
       "      <td>Connors, Mr. Patrick</td>\n",
       "      <td>male</td>\n",
       "      <td>70.5</td>\n",
       "      <td>0</td>\n",
       "      <td>0</td>\n",
       "      <td>370369</td>\n",
       "      <td>7.7500</td>\n",
       "      <td>0</td>\n",
       "      <td>Q</td>\n",
       "    </tr>\n",
       "    <tr>\n",
       "      <th>493</th>\n",
       "      <td>494</td>\n",
       "      <td>0</td>\n",
       "      <td>1</td>\n",
       "      <td>Artagaveytia, Mr. Ramon</td>\n",
       "      <td>male</td>\n",
       "      <td>71.0</td>\n",
       "      <td>0</td>\n",
       "      <td>0</td>\n",
       "      <td>PC 17609</td>\n",
       "      <td>49.5042</td>\n",
       "      <td>0</td>\n",
       "      <td>C</td>\n",
       "    </tr>\n",
       "    <tr>\n",
       "      <th>96</th>\n",
       "      <td>97</td>\n",
       "      <td>0</td>\n",
       "      <td>1</td>\n",
       "      <td>Goldschmidt, Mr. George B</td>\n",
       "      <td>male</td>\n",
       "      <td>71.0</td>\n",
       "      <td>0</td>\n",
       "      <td>0</td>\n",
       "      <td>PC 17754</td>\n",
       "      <td>34.6542</td>\n",
       "      <td>A5</td>\n",
       "      <td>C</td>\n",
       "    </tr>\n",
       "    <tr>\n",
       "      <th>851</th>\n",
       "      <td>852</td>\n",
       "      <td>0</td>\n",
       "      <td>3</td>\n",
       "      <td>Svensson, Mr. Johan</td>\n",
       "      <td>male</td>\n",
       "      <td>74.0</td>\n",
       "      <td>0</td>\n",
       "      <td>0</td>\n",
       "      <td>347060</td>\n",
       "      <td>7.7750</td>\n",
       "      <td>0</td>\n",
       "      <td>S</td>\n",
       "    </tr>\n",
       "    <tr>\n",
       "      <th>630</th>\n",
       "      <td>631</td>\n",
       "      <td>1</td>\n",
       "      <td>1</td>\n",
       "      <td>Barkworth, Mr. Algernon Henry Wilson</td>\n",
       "      <td>male</td>\n",
       "      <td>80.0</td>\n",
       "      <td>0</td>\n",
       "      <td>0</td>\n",
       "      <td>27042</td>\n",
       "      <td>30.0000</td>\n",
       "      <td>A23</td>\n",
       "      <td>S</td>\n",
       "    </tr>\n",
       "  </tbody>\n",
       "</table>\n",
       "<p>891 rows × 12 columns</p>\n",
       "</div>"
      ]
     },
     "execution_count": 23,
     "metadata": {},
     "output_type": "execute_result"
    }
   ],
   "execution_count": 23
  },
  {
   "cell_type": "markdown",
   "id": "eab3cd85-5e96-4228-8834-9ef53b93689a",
   "metadata": {},
   "source": [
    "### Группировка данных\n",
    "Pandas также позволяет группировать данные и выполнять агрегирующие операции."
   ]
  },
  {
   "cell_type": "code",
   "id": "25ced901-0482-49a8-8c12-d192e84e3fb3",
   "metadata": {
    "tags": [],
    "ExecuteTime": {
     "end_time": "2025-09-30T09:44:57.585734Z",
     "start_time": "2025-09-30T09:44:57.580724Z"
    }
   },
   "source": [
    "# Найдите долю выживших среди всех PClass\n",
    "# Используйте метод .groupby()\n",
    "# write your code here\n",
    "print(titanic.groupby(\"Survived\").size())"
   ],
   "outputs": [
    {
     "name": "stdout",
     "output_type": "stream",
     "text": [
      "Survived\n",
      "0    549\n",
      "1    342\n",
      "dtype: int64\n"
     ]
    }
   ],
   "execution_count": 24
  },
  {
   "cell_type": "markdown",
   "id": "d0355db7-7bf9-46d1-ad51-5f2eddc42501",
   "metadata": {},
   "source": [
    "## Часть 4: Задания для практики\n",
    "Прочитайте данные из файла 'titanic.csv'.\n",
    "Проверьте, есть ли пропущенные значения в данных и заполните их нулями.\n",
    "Выведите первые 10 строк данных.\n",
    "Выберите только те строки, где значение в столбце 'Age' больше 30.\n",
    "Отсортируйте данные по столбцу 'Fare' в порядке убывания.\n",
    "Сгруппируйте данные по столбцу 'Pclass' и вычислите средний возраст ('Age') для каждого класса."
   ]
  },
  {
   "cell_type": "code",
   "id": "a1b4deaa-cd06-41b3-8084-5c2d3a867811",
   "metadata": {
    "ExecuteTime": {
     "end_time": "2025-09-30T09:53:32.956733Z",
     "start_time": "2025-09-30T09:53:32.946553Z"
    }
   },
   "source": [
    "titanic = pd.read_csv(\"titanic.csv\")\n",
    "titanic.fillna(0)\n",
    "ageFiltered = titanic.query(\"Age > 30\")\n",
    "ageFiltered = ageFiltered.sort_values(\"Fare\")\n",
    "titanic.groupby(\"Pclass\")[\"Age\"].mean()"
   ],
   "outputs": [
    {
     "data": {
      "text/plain": [
       "Pclass\n",
       "1    38.233441\n",
       "2    29.877630\n",
       "3    25.140620\n",
       "Name: Age, dtype: float64"
      ]
     },
     "execution_count": 44,
     "metadata": {},
     "output_type": "execute_result"
    }
   ],
   "execution_count": 44
  }
 ],
 "metadata": {
  "kernelspec": {
   "display_name": "Python 3 (ipykernel)",
   "language": "python",
   "name": "python3"
  },
  "language_info": {
   "codemirror_mode": {
    "name": "ipython",
    "version": 3
   },
   "file_extension": ".py",
   "mimetype": "text/x-python",
   "name": "python",
   "nbconvert_exporter": "python",
   "pygments_lexer": "ipython3",
   "version": "3.11.5"
  }
 },
 "nbformat": 4,
 "nbformat_minor": 5
}
